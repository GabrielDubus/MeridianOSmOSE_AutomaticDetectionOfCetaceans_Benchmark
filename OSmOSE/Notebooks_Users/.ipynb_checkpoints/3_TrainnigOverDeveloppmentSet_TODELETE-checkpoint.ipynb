{
 "cells": [
  {
   "cell_type": "markdown",
   "id": "a911ba53-f148-436a-a84b-a107b118cb5e",
   "metadata": {},
   "source": [
    "## Import functions "
   ]
  },
  {
   "cell_type": "markdown",
   "id": "be9e4e47-d0ea-4958-a22d-da09b20076c7",
   "metadata": {},
   "source": [
    "#### <span style=\"color:red\">*JUST RUN CELL*</span>\n"
   ]
  },
  {
   "cell_type": "code",
   "execution_count": 1,
   "id": "239dbd34-388b-4dfe-94a7-02fb4184eea0",
   "metadata": {},
   "outputs": [
    {
     "name": "stdout",
     "output_type": "stream",
     "text": [
      "PyTorch Version:  1.10.1\n",
      "Torchvision Version:  0.11.2\n"
     ]
    }
   ],
   "source": [
    "import os \n",
    "import sys\n",
    "import numpy as np\n",
    "#os.chdir(os.path.join(\"/home/datawork-osmose/\",'osmoseNotebooks_v0','source'))\n",
    "\n",
    "os.chdir(os.path.join(\"C:/Users/gabri.DESKTOP-QIPER28/Documents/PhD/DeepLearningDetection/Codes_V2/Functions\"))\n",
    "from TrainNetwork import TrainNetwork_main \n",
    "from launcher_datasetScale import list_datasets\n",
    "from Check_files_in_AI_folders import CheckAvailableAI_tasks_BM_model, CheckAvailableAI_DataSplit\n"
   ]
  },
  {
   "cell_type": "markdown",
   "id": "431855bb-1d21-48a5-8756-f29c59125a6f",
   "metadata": {},
   "source": [
    "## Selection of dataset, task, benchmark and datasplit"
   ]
  },
  {
   "cell_type": "markdown",
   "id": "3708a79e-3a4c-4afe-afd3-91287115fa62",
   "metadata": {},
   "source": [
    "#### <span style=\"color:red\">*RUN CELL & FILL*</span>\n",
    "\n",
    "- ``dataset_ID`` : nom du jeu de données à traiter\n"
   ]
  },
  {
   "cell_type": "code",
   "execution_count": 2,
   "id": "2f144bfe-8591-40cf-9404-d13784812eec",
   "metadata": {},
   "outputs": [
    {
     "name": "stdout",
     "output_type": "stream",
     "text": [
      "Available datasets:\n",
      "  - APOCADO_IROISE_C2D1_07072022\n",
      "  - Glider\n"
     ]
    }
   ],
   "source": [
    "list_datasets()"
   ]
  },
  {
   "cell_type": "code",
   "execution_count": 18,
   "id": "525370f9-56b7-417c-b96a-4264205d1d1b",
   "metadata": {},
   "outputs": [],
   "source": [
    "dataset_ID = 'Glider'\n",
    "\n",
    "#display_metadata(dataset_ID)"
   ]
  },
  {
   "cell_type": "markdown",
   "id": "056131f6-da18-41cf-9b7d-d19f6f09012a",
   "metadata": {},
   "source": [
    "#### <span style=\"color:red\">*RUN CELL & FILL*</span>\n",
    "\n",
    "It will print all the folder in the AI branch.\n",
    "\n",
    "- `` Task_ID `` : The First Level is for the Task.    (nb : for now, only 'Task1_DetWeakLabel' available)\n",
    "- ``BM_Name`` : The Second Level is for the BenchMark - . A BenchMark is composed by different model that will be compared. (Different architecture, different dataset subdivision, differents representation, ...)\n",
    "- The Third Level is for the dataset used - same notation than the folder that contains specrograms : \"analysis_sf\"_\"LengthFile\"\n",
    "    - ``analysis_fs`` : Fréquence d'échantillonnage des fichier à traiter (en Hz)\n",
    "    - ``LengthFile`` : Durée (en secondes) des fichiers à traiter"
   ]
  },
  {
   "cell_type": "code",
   "execution_count": 19,
   "id": "2ad27eed-49bd-4cd8-a7d9-267b34d3e471",
   "metadata": {},
   "outputs": [
    {
     "name": "stdout",
     "output_type": "stream",
     "text": [
      "/\n",
      "Task1_DetWeakLabel/\n",
      "    DetWL_BlueWhaleAus/\n",
      "        50_500/\n",
      "Task2_DetWeakLabel_multiannot/\n",
      "    DetWL_Bw/\n",
      "        50_500/\n",
      "    DetWL_BwMd/\n",
      "        50_500/\n",
      "    DetWL_BmP/\n",
      "        50_500/\n",
      "    DetWL_BmD/\n",
      "        50_500/\n",
      "    DetWL_BmAnt/\n",
      "        50_500/\n",
      "    DetWL_BwAus/\n",
      "        50_500/\n"
     ]
    }
   ],
   "source": [
    "CheckAvailableAI_tasks_BM_model(dataset_ID)"
   ]
  },
  {
   "cell_type": "code",
   "execution_count": 23,
   "id": "0f5792cb-bea1-4e92-a3cd-4b59bbc96bc9",
   "metadata": {},
   "outputs": [],
   "source": [
    "# AI Task to create :\n",
    "Task_ID = 'Task2_DetWeakLabel_multiannot'\n",
    "# AI Model to create :\n",
    "BM_Name = 'DetWL_BmP'\n",
    "\n",
    "# Please Select one already available in the [3]rd cell !!\n",
    "analysis_fs = 500 #Hz\n",
    "LengthFile = 50 #s"
   ]
  },
  {
   "cell_type": "markdown",
   "id": "bbc3e2d1-888a-4f34-8578-f8173b54ced3",
   "metadata": {},
   "source": [
    "#### <span style=\"color:red\">*RUN CELL & FILL*</span>\n",
    "\n",
    "It will print all the existing datasplit\n",
    "\n",
    "- `` SplitName `` : Enter the one you want to use\n"
   ]
  },
  {
   "cell_type": "code",
   "execution_count": 24,
   "id": "06fdf8b8-e239-4bd2-8ba9-a6fcb08b9415",
   "metadata": {},
   "outputs": [
    {
     "name": "stdout",
     "output_type": "stream",
     "text": [
      "info_datasplit/\n",
      "    Random_halfPos_5050/\n"
     ]
    }
   ],
   "source": [
    "CheckAvailableAI_DataSplit(dataset_ID, Task_ID, BM_Name, LengthFile, analysis_fs)"
   ]
  },
  {
   "cell_type": "code",
   "execution_count": 25,
   "id": "87834994-73b3-4897-8045-0a5abf48fef6",
   "metadata": {},
   "outputs": [],
   "source": [
    "SplitName = 'Random_halfPos_5050'"
   ]
  },
  {
   "cell_type": "markdown",
   "id": "94c57efe-4eec-4932-897b-71b4ba32d370",
   "metadata": {},
   "source": [
    "## Definition of hyperparameters"
   ]
  },
  {
   "cell_type": "markdown",
   "id": "63696557-08df-40a4-8e2d-6ed2f2912ad1",
   "metadata": {},
   "source": [
    "#### <span style=\"color:red\">*FILL & RUN CELL*</span>\n",
    "\n",
    "- `` Version_name `` : Choose a name for your model \n",
    "\n",
    "- `` ModelName `` : Architecture of the model. Please, select one in this list : (for more details, check : https://pytorch.org/vision/main/models.html)\n",
    "    - 'resnet18'\n",
    "    - 'resnet50'\n",
    "    - 'resnet101'\n",
    "    - 'vgg11'\n",
    "    - 'vgg11_bn'\n",
    "    - 'vgg13'\n",
    "    - 'vgg13_bn'\n",
    "    - 'vgg19'\n",
    "    - 'vgg19_bn'\n",
    "    - 'alexnet'\n",
    "    - 'squeezenet'\n",
    "    - 'densenet'\n",
    "    - 'inception' --> not ready yet\n",
    "    \n",
    "    \n",
    "- `` use_pretrained `` : (for more details, check : https://pytorch.org/vision/main/models.html) (By default : use_pretrained = True)\n",
    "    - True : if you want to used already pretrained network one reference image dataset and just finetun the last layer \n",
    "    - False : if you want to train your network from random weights and adjust all layers\n",
    "\n",
    "\n",
    "       \n",
    "- `` TrainSetRatio `` : ratio between 0 and 1 of all the developpement set that will be used for the training (the oser part is for testing). (if None : TrainSetRatio = 0.9)\n",
    "\n",
    "- `` batch_size `` : Number of spectrograms per batch (if None : batch_size = 10)\n",
    "- `` learning_rate `` : step size at each iteration while moving toward a minimum of a loss function (if None : learning_rate = 1e-3)\n",
    "- `` num_epochs `` : Number of iteration over all developpement set (if None : num_epochs = 10)\n",
    "\n",
    "- `` Dyn `` : Numpy array with two elements np.array([LevelMindB,LevelMaxdB]). Define the lower and upper level threshold apply on the spectrograms. If Dyn=None, we will use the dynamic applied for the visualisation. (By default : Dyn = None)\n",
    "\n"
   ]
  },
  {
   "cell_type": "code",
   "execution_count": 26,
   "id": "c691bc36-d890-4df0-ab64-c91e337f44ef",
   "metadata": {},
   "outputs": [],
   "source": [
    "Version_name = 'resnet18_nopt'\n",
    "\n",
    "ModelName = 'resnet18'\n",
    "use_pretrained = False\n",
    "\n",
    "TrainSetRatio = 0.9\n",
    "\n",
    "batch_size = 10\n",
    "learning_rate = 1e-4\n",
    "num_epochs = 80\n",
    "\n",
    "Dyn = np.array([-20,20])"
   ]
  },
  {
   "cell_type": "code",
   "execution_count": 27,
   "id": "3b63647e-9276-4c1f-9266-3e921e817724",
   "metadata": {},
   "outputs": [
    {
     "name": "stdout",
     "output_type": "stream",
     "text": [
      "MODEL INFORMATION : \n",
      " \n",
      "ResNet(\n",
      "  (conv1): Conv2d(3, 64, kernel_size=(7, 7), stride=(2, 2), padding=(3, 3), bias=False)\n",
      "  (bn1): BatchNorm2d(64, eps=1e-05, momentum=0.1, affine=True, track_running_stats=True)\n",
      "  (relu): ReLU(inplace=True)\n",
      "  (maxpool): MaxPool2d(kernel_size=3, stride=2, padding=1, dilation=1, ceil_mode=False)\n",
      "  (layer1): Sequential(\n",
      "    (0): BasicBlock(\n",
      "      (conv1): Conv2d(64, 64, kernel_size=(3, 3), stride=(1, 1), padding=(1, 1), bias=False)\n",
      "      (bn1): BatchNorm2d(64, eps=1e-05, momentum=0.1, affine=True, track_running_stats=True)\n",
      "      (relu): ReLU(inplace=True)\n",
      "      (conv2): Conv2d(64, 64, kernel_size=(3, 3), stride=(1, 1), padding=(1, 1), bias=False)\n",
      "      (bn2): BatchNorm2d(64, eps=1e-05, momentum=0.1, affine=True, track_running_stats=True)\n",
      "    )\n",
      "    (1): BasicBlock(\n",
      "      (conv1): Conv2d(64, 64, kernel_size=(3, 3), stride=(1, 1), padding=(1, 1), bias=False)\n",
      "      (bn1): BatchNorm2d(64, eps=1e-05, momentum=0.1, affine=True, track_running_stats=True)\n",
      "      (relu): ReLU(inplace=True)\n",
      "      (conv2): Conv2d(64, 64, kernel_size=(3, 3), stride=(1, 1), padding=(1, 1), bias=False)\n",
      "      (bn2): BatchNorm2d(64, eps=1e-05, momentum=0.1, affine=True, track_running_stats=True)\n",
      "    )\n",
      "  )\n",
      "  (layer2): Sequential(\n",
      "    (0): BasicBlock(\n",
      "      (conv1): Conv2d(64, 128, kernel_size=(3, 3), stride=(2, 2), padding=(1, 1), bias=False)\n",
      "      (bn1): BatchNorm2d(128, eps=1e-05, momentum=0.1, affine=True, track_running_stats=True)\n",
      "      (relu): ReLU(inplace=True)\n",
      "      (conv2): Conv2d(128, 128, kernel_size=(3, 3), stride=(1, 1), padding=(1, 1), bias=False)\n",
      "      (bn2): BatchNorm2d(128, eps=1e-05, momentum=0.1, affine=True, track_running_stats=True)\n",
      "      (downsample): Sequential(\n",
      "        (0): Conv2d(64, 128, kernel_size=(1, 1), stride=(2, 2), bias=False)\n",
      "        (1): BatchNorm2d(128, eps=1e-05, momentum=0.1, affine=True, track_running_stats=True)\n",
      "      )\n",
      "    )\n",
      "    (1): BasicBlock(\n",
      "      (conv1): Conv2d(128, 128, kernel_size=(3, 3), stride=(1, 1), padding=(1, 1), bias=False)\n",
      "      (bn1): BatchNorm2d(128, eps=1e-05, momentum=0.1, affine=True, track_running_stats=True)\n",
      "      (relu): ReLU(inplace=True)\n",
      "      (conv2): Conv2d(128, 128, kernel_size=(3, 3), stride=(1, 1), padding=(1, 1), bias=False)\n",
      "      (bn2): BatchNorm2d(128, eps=1e-05, momentum=0.1, affine=True, track_running_stats=True)\n",
      "    )\n",
      "  )\n",
      "  (layer3): Sequential(\n",
      "    (0): BasicBlock(\n",
      "      (conv1): Conv2d(128, 256, kernel_size=(3, 3), stride=(2, 2), padding=(1, 1), bias=False)\n",
      "      (bn1): BatchNorm2d(256, eps=1e-05, momentum=0.1, affine=True, track_running_stats=True)\n",
      "      (relu): ReLU(inplace=True)\n",
      "      (conv2): Conv2d(256, 256, kernel_size=(3, 3), stride=(1, 1), padding=(1, 1), bias=False)\n",
      "      (bn2): BatchNorm2d(256, eps=1e-05, momentum=0.1, affine=True, track_running_stats=True)\n",
      "      (downsample): Sequential(\n",
      "        (0): Conv2d(128, 256, kernel_size=(1, 1), stride=(2, 2), bias=False)\n",
      "        (1): BatchNorm2d(256, eps=1e-05, momentum=0.1, affine=True, track_running_stats=True)\n",
      "      )\n",
      "    )\n",
      "    (1): BasicBlock(\n",
      "      (conv1): Conv2d(256, 256, kernel_size=(3, 3), stride=(1, 1), padding=(1, 1), bias=False)\n",
      "      (bn1): BatchNorm2d(256, eps=1e-05, momentum=0.1, affine=True, track_running_stats=True)\n",
      "      (relu): ReLU(inplace=True)\n",
      "      (conv2): Conv2d(256, 256, kernel_size=(3, 3), stride=(1, 1), padding=(1, 1), bias=False)\n",
      "      (bn2): BatchNorm2d(256, eps=1e-05, momentum=0.1, affine=True, track_running_stats=True)\n",
      "    )\n",
      "  )\n",
      "  (layer4): Sequential(\n",
      "    (0): BasicBlock(\n",
      "      (conv1): Conv2d(256, 512, kernel_size=(3, 3), stride=(2, 2), padding=(1, 1), bias=False)\n",
      "      (bn1): BatchNorm2d(512, eps=1e-05, momentum=0.1, affine=True, track_running_stats=True)\n",
      "      (relu): ReLU(inplace=True)\n",
      "      (conv2): Conv2d(512, 512, kernel_size=(3, 3), stride=(1, 1), padding=(1, 1), bias=False)\n",
      "      (bn2): BatchNorm2d(512, eps=1e-05, momentum=0.1, affine=True, track_running_stats=True)\n",
      "      (downsample): Sequential(\n",
      "        (0): Conv2d(256, 512, kernel_size=(1, 1), stride=(2, 2), bias=False)\n",
      "        (1): BatchNorm2d(512, eps=1e-05, momentum=0.1, affine=True, track_running_stats=True)\n",
      "      )\n",
      "    )\n",
      "    (1): BasicBlock(\n",
      "      (conv1): Conv2d(512, 512, kernel_size=(3, 3), stride=(1, 1), padding=(1, 1), bias=False)\n",
      "      (bn1): BatchNorm2d(512, eps=1e-05, momentum=0.1, affine=True, track_running_stats=True)\n",
      "      (relu): ReLU(inplace=True)\n",
      "      (conv2): Conv2d(512, 512, kernel_size=(3, 3), stride=(1, 1), padding=(1, 1), bias=False)\n",
      "      (bn2): BatchNorm2d(512, eps=1e-05, momentum=0.1, affine=True, track_running_stats=True)\n",
      "    )\n",
      "  )\n",
      "  (avgpool): AdaptiveAvgPool2d(output_size=(1, 1))\n",
      "  (fc): Sequential(\n",
      "    (0): Linear(in_features=512, out_features=1, bias=True)\n",
      "    (1): Sigmoid()\n",
      "  )\n",
      ")\n",
      "Params to learn:\n",
      "\t fc.0.weight\n",
      "\t fc.0.bias\n",
      " \n",
      "TRAINNING : \n",
      "Epoch TRAIN [0/80]  -- Loss = 0.5384014430038161  --  iteration [301/301]  \n",
      "Epoch TEST [0/80]  -- Loss = 0.5350293363585616  --  iteration [33/33]  \n",
      "Epoch TRAIN [1/80]  -- Loss = 0.5247940844376617  --  iteration [301/301]  \n",
      "Epoch TEST [1/80]  -- Loss = 0.5276082067778616  --  iteration [33/33]  \n",
      "Epoch TRAIN [2/80]  -- Loss = 0.5195930252142523  --  iteration [301/301]  \n",
      "Epoch TEST [2/80]  -- Loss = 0.522729774316152  --  iteration [33/33]  \n",
      "Epoch TRAIN [3/80]  -- Loss = 0.5159915895557087  --  iteration [301/301]  \n",
      "Epoch TEST [3/80]  -- Loss = 0.5192889498941826  --  iteration [33/33]  \n",
      "Epoch TRAIN [4/80]  -- Loss = 0.5132849543197606  --  iteration [301/301]  \n",
      "Epoch TEST [4/80]  -- Loss = 0.5166939939513351  --  iteration [33/33]  \n",
      "Epoch TRAIN [5/80]  -- Loss = 0.5111059234090818  --  iteration [301/301]  \n",
      "Epoch TEST [5/80]  -- Loss = 0.5146207673983141  --  iteration [33/33]  \n",
      "Epoch TRAIN [6/80]  -- Loss = 0.5092450153094985  --  iteration [301/301]  \n",
      "Epoch TEST [6/80]  -- Loss = 0.512890077901609  --  iteration [33/33]  \n",
      "Epoch TRAIN [7/80]  -- Loss = 0.5075929879251112  --  iteration [301/301]  \n",
      "Epoch TEST [7/80]  -- Loss = 0.5113899075623715  --  iteration [33/33]  \n",
      "Epoch TRAIN [8/80]  -- Loss = 0.5060810739811868  --  iteration [301/301]  \n",
      "Epoch TEST [8/80]  -- Loss = 0.5100554670348312  --  iteration [33/33]  \n",
      "Epoch TRAIN [9/80]  -- Loss = 0.5046711785353696  --  iteration [301/301]  \n",
      "Epoch TEST [9/80]  -- Loss = 0.5088518099351362  --  iteration [33/33]  \n",
      "Epoch TRAIN [10/80]  -- Loss = 0.503339144132066  --  iteration [301/301]]]  \n",
      "Epoch TEST [10/80]  -- Loss = 0.5077473566387639  --  iteration [33/33]  \n",
      "Epoch TRAIN [11/80]  -- Loss = 0.5020716472519593  --  iteration [301/301]]  \n",
      "Epoch TEST [11/80]  -- Loss = 0.5067274525310054  --  iteration [33/33]  \n",
      "Epoch TRAIN [12/80]  -- Loss = 0.5008579942079081  --  iteration [301/301]  \n",
      "Epoch TEST [12/80]  -- Loss = 0.5057802182255369  --  iteration [33/33]  \n",
      "Epoch TRAIN [13/80]  -- Loss = 0.499691613092771  --  iteration [301/301]]]  \n",
      "Epoch TEST [13/80]  -- Loss = 0.5048945853204438  --  iteration [33/33]  \n",
      "Epoch TRAIN [14/80]  -- Loss = 0.49856997843200584  --  iteration [301/301]  \n",
      "Epoch TEST [14/80]  -- Loss = 0.5040641020644795  --  iteration [33/33]  \n",
      "Epoch TRAIN [15/80]  -- Loss = 0.49748911998200657  --  iteration [301/301]  \n",
      "Epoch TEST [15/80]  -- Loss = 0.5032836749698176  --  iteration [33/33]  \n",
      "Epoch TRAIN [16/80]  -- Loss = 0.4964434941147649  --  iteration [301/301]]  \n",
      "Epoch TEST [16/80]  -- Loss = 0.5025527919783737  --  iteration [33/33]  \n",
      "Epoch TRAIN [17/80]  -- Loss = 0.49543202304562856  --  iteration [301/301]  \n",
      "Epoch TEST [17/80]  -- Loss = 0.5018623534477118  --  iteration [33/33]  \n",
      "Epoch TRAIN [18/80]  -- Loss = 0.494454352018049  --  iteration [301/301]  \n",
      "Epoch TEST [18/80]  -- Loss = 0.5012101910331033  --  iteration [33/33]  \n",
      "Epoch TRAIN [19/80]  -- Loss = 0.49350578102756576  --  iteration [301/301]  \n",
      "Epoch TEST [19/80]  -- Loss = 0.5005943504246798  --  iteration [33/33]  \n",
      "Epoch TRAIN [20/80]  -- Loss = 0.49258715552943094  --  iteration [301/301]  \n",
      "Epoch TEST [20/80]  -- Loss = 0.5000100180958257  --  iteration [33/33]  \n",
      "Epoch TRAIN [21/80]  -- Loss = 0.4916965017386053  --  iteration [301/301]  \n",
      "Epoch TEST [21/80]  -- Loss = 0.49945803393017163  --  iteration [33/33]  \n",
      "Epoch TRAIN [22/80]  -- Loss = 0.4908310293755262  --  iteration [301/301]  \n",
      "Epoch TEST [22/80]  -- Loss = 0.498934165094838  --  iteration [33/33]  \n",
      "Epoch TRAIN [23/80]  -- Loss = 0.4899944677899446  --  iteration [301/301]]  \n",
      "Epoch TEST [23/80]  -- Loss = 0.49843735044652765  --  iteration [33/33]  \n",
      "Epoch TRAIN [24/80]  -- Loss = 0.4891787047600033  --  iteration [301/301]  \n",
      "Epoch TEST [24/80]  -- Loss = 0.49796289837721625  --  iteration [33/33]  \n",
      "Epoch TRAIN [25/80]  -- Loss = 0.48838525416447076  --  iteration [301/301]  \n",
      "Epoch TEST [25/80]  -- Loss = 0.4975118971232212  --  iteration [33/33]  \n",
      "Epoch TRAIN [26/80]  -- Loss = 0.4876148891805414  --  iteration [301/301]]  \n",
      "Epoch TEST [26/80]  -- Loss = 0.49708336320790375  --  iteration [33/33]  \n",
      "Epoch TRAIN [27/80]  -- Loss = 0.48686353882087824  --  iteration [301/301]  \n",
      "Epoch TEST [27/80]  -- Loss = 0.4966761858174295  --  iteration [33/33]  \n",
      "Epoch TRAIN [28/80]  -- Loss = 0.48613395113683616  --  iteration [301/301]  \n",
      "Epoch TEST [28/80]  -- Loss = 0.49628425908811163  --  iteration [33/33]  \n",
      "Epoch TRAIN [29/80]  -- Loss = 0.48542235153062  --  iteration [301/301]1]]  \n",
      "Epoch TEST [29/80]  -- Loss = 0.4959136988177444  --  iteration [33/33]  \n",
      "Epoch TRAIN [30/80]  -- Loss = 0.48472592066292747  --  iteration [301/301]  \n",
      "Epoch TEST [30/80]  -- Loss = 0.49555698849938135  --  iteration [33/33]  \n",
      "Epoch TRAIN [31/80]  -- Loss = 0.48405200678644783  --  iteration [301/301]  \n",
      "Epoch TEST [31/80]  -- Loss = 0.49521474766008783  --  iteration [33/33]  \n",
      "Epoch TRAIN [32/80]  -- Loss = 0.4833895601703479  --  iteration [301/301]  \n",
      "Epoch TEST [32/80]  -- Loss = 0.4948868525750709  --  iteration [33/33]]  \n",
      "Epoch TRAIN [33/80]  -- Loss = 0.4827478503270007  --  iteration [301/301]  \n",
      "Epoch TEST [33/80]  -- Loss = 0.4945718456398357  --  iteration [33/33]  \n",
      "Epoch TRAIN [34/80]  -- Loss = 0.482116536939659  --  iteration [301/301]1]  \n",
      "Epoch TEST [34/80]  -- Loss = 0.4942677580949032  --  iteration [33/33]  \n",
      "Epoch TRAIN [35/80]  -- Loss = 0.4815028166751133  --  iteration [301/301]  \n",
      "Epoch TEST [35/80]  -- Loss = 0.4939784010251363  --  iteration [33/33]  \n",
      "Epoch TRAIN [36/80]  -- Loss = 0.4809022912650409  --  iteration [301/301]  \n",
      "Epoch TEST [36/80]  -- Loss = 0.49369921286900836  --  iteration [33/33]  \n",
      "Epoch TRAIN [37/80]  -- Loss = 0.48031357376282396  --  iteration [301/301]  \n",
      "Epoch TEST [37/80]  -- Loss = 0.49342681151447876  --  iteration [33/33]  \n",
      "Epoch TRAIN [38/80]  -- Loss = 0.47973945687379554  --  iteration [301/301]  \n",
      "Epoch TEST [38/80]  -- Loss = 0.4931660700928081  --  iteration [33/33]  \n",
      "Epoch TRAIN [39/80]  -- Loss = 0.47917635070525133  --  iteration [301/301]  \n",
      "Epoch TEST [39/80]  -- Loss = 0.49291161786426196  --  iteration [33/33]  \n",
      "Epoch TRAIN [40/80]  -- Loss = 0.4786234993079176  --  iteration [301/301]]  \n",
      "Epoch TEST [40/80]  -- Loss = 0.4926668315222769  --  iteration [33/33]  \n",
      "Epoch TRAIN [41/80]  -- Loss = 0.47808516738422685  --  iteration [301/301]  \n",
      "Epoch TEST [41/80]  -- Loss = 0.4924291923190608  --  iteration [33/33]]  \n",
      "Epoch TRAIN [42/80]  -- Loss = 0.477554647134388  --  iteration [301/301]]]  \n",
      "Epoch TEST [42/80]  -- Loss = 0.4921985494368004  --  iteration [33/33]  \n",
      "Epoch TRAIN [43/80]  -- Loss = 0.4770362777171341  --  iteration [301/301]]  \n",
      "Epoch TEST [43/80]  -- Loss = 0.4919736854957812  --  iteration [33/33]]  \n",
      "Epoch TRAIN [44/80]  -- Loss = 0.47652825980487457  --  iteration [301/301]  \n",
      "Epoch TEST [44/80]  -- Loss = 0.4917553220734452  --  iteration [33/33]  \n",
      "Epoch TRAIN [45/80]  -- Loss = 0.4760260244837631  --  iteration [301/301]  \n",
      "Epoch TEST [45/80]  -- Loss = 0.49154336885972455  --  iteration [33/33]  \n",
      "Epoch TRAIN [46/80]  -- Loss = 0.4755358481129935  --  iteration [301/301]]  \n",
      "Epoch TEST [46/80]  -- Loss = 0.49133524479288043  --  iteration [33/33]  \n",
      "Epoch TRAIN [47/80]  -- Loss = 0.47505452580428204  --  iteration [301/301]  \n",
      "Epoch TEST [47/80]  -- Loss = 0.49113265763629566  --  iteration [33/33]  \n",
      "Epoch TRAIN [48/80]  -- Loss = 0.4745812308649684  --  iteration [301/301]]  \n",
      "Epoch TEST [48/80]  -- Loss = 0.49093240183411224  --  iteration [33/33]  \n",
      "Epoch TRAIN [49/80]  -- Loss = 0.47411722741847817  --  iteration [301/301]  \n",
      "Epoch TEST [49/80]  -- Loss = 0.4907403579263976  --  iteration [33/33]  \n",
      "Epoch TRAIN [50/80]  -- Loss = 0.4736574534759965  --  iteration [301/301]  \n",
      "Epoch TEST [50/80]  -- Loss = 0.49054883962327783  --  iteration [33/33]  \n",
      "Epoch TRAIN [51/80]  -- Loss = 0.4732113014225944  --  iteration [301/301]  \n",
      "Epoch TEST [51/80]  -- Loss = 0.49036250466650183  --  iteration [33/33]  \n",
      "Epoch TRAIN [52/80]  -- Loss = 0.4727664019578319  --  iteration [301/301]]  \n",
      "Epoch TEST [52/80]  -- Loss = 0.4901768041379524  --  iteration [33/33]  \n",
      "Epoch TRAIN [53/80]  -- Loss = 0.472332012861274  --  iteration [301/301]  \n",
      "Epoch TEST [53/80]  -- Loss = 0.4899965583375006  --  iteration [33/33]  \n",
      "Epoch TRAIN [54/80]  -- Loss = 0.47190699783274503  --  iteration [301/301]  \n",
      "Epoch TEST [54/80]  -- Loss = 0.48981924896890466  --  iteration [33/33]  \n",
      "Epoch TRAIN [55/80]  -- Loss = 0.47148465689432584  --  iteration [301/301]  \n",
      "Epoch TEST [55/80]  -- Loss = 0.48964567843711737  --  iteration [33/33]  \n",
      "Epoch TRAIN [56/80]  -- Loss = 0.4710697900021195  --  iteration [301/301]]  \n",
      "Epoch TEST [56/80]  -- Loss = 0.4894721742832299  --  iteration [33/33]  \n",
      "Epoch TRAIN [57/80]  -- Loss = 0.47065824488072694  --  iteration [301/301]  \n",
      "Epoch TEST [57/80]  -- Loss = 0.48930385663653864  --  iteration [33/33]  \n",
      "Epoch TRAIN [58/80]  -- Loss = 0.4702563862566932  --  iteration [301/301]]  \n",
      "Epoch TEST [58/80]  -- Loss = 0.48913560446464655  --  iteration [33/33]  \n",
      "Epoch TRAIN [59/80]  -- Loss = 0.46985597779782506  --  iteration [301/301]  \n",
      "Epoch TEST [59/80]  -- Loss = 0.48896859766858997  --  iteration [33/33]  \n",
      "Epoch TRAIN [60/80]  -- Loss = 0.46946522524190504  --  iteration [301/301]  \n",
      "Epoch TEST [60/80]  -- Loss = 0.48880493821519794  --  iteration [33/33]  \n",
      "Epoch TRAIN [61/80]  -- Loss = 0.4690796077449456  --  iteration [301/301]]  \n",
      "Epoch TEST [61/80]  -- Loss = 0.4886412187056108  --  iteration [33/33]  \n",
      "Epoch TRAIN [62/80]  -- Loss = 0.4686947856531587  --  iteration [301/301]  \n",
      "Epoch TEST [62/80]  -- Loss = 0.4884790728489558  --  iteration [33/33]  \n",
      "Epoch TRAIN [63/80]  -- Loss = 0.4683200499148068  --  iteration [301/301]]  \n",
      "Epoch TEST [63/80]  -- Loss = 0.48832085864110425  --  iteration [33/33]  \n",
      "Epoch TRAIN [64/80]  -- Loss = 0.46794848540098566  --  iteration [301/301]  \n",
      "Epoch TEST [64/80]  -- Loss = 0.48816233060576697  --  iteration [33/33]  \n",
      "Epoch TRAIN [65/80]  -- Loss = 0.4675833645750122  --  iteration [301/301]]  \n",
      "Epoch TEST [65/80]  -- Loss = 0.4880043530102932  --  iteration [33/33]  \n",
      "Epoch TRAIN [66/80]  -- Loss = 0.467220941255259  --  iteration [301/301]]]  \n",
      "Epoch TEST [66/80]  -- Loss = 0.4878498839609551  --  iteration [33/33]  \n",
      "Epoch TRAIN [67/80]  -- Loss = 0.4668607974171242  --  iteration [301/301]  \n",
      "Epoch TEST [67/80]  -- Loss = 0.48769535079146875  --  iteration [33/33]  \n",
      "Epoch TRAIN [68/80]  -- Loss = 0.4665060358190061  --  iteration [301/301]]  \n",
      "Epoch TEST [68/80]  -- Loss = 0.48754311240080633  --  iteration [33/33]  \n",
      "Epoch TRAIN [69/80]  -- Loss = 0.46615896054676603  --  iteration [301/301]  \n",
      "Epoch TEST [69/80]  -- Loss = 0.48738610157460877  --  iteration [33/33]  \n",
      "Epoch TRAIN [70/80]  -- Loss = 0.4658127226603784  --  iteration [301/301]]  \n",
      "Epoch TEST [70/80]  -- Loss = 0.4872318799748565  --  iteration [33/33]  \n",
      "Epoch TRAIN [71/80]  -- Loss = 0.465469992339017  --  iteration [301/301]  \n",
      "Epoch TEST [71/80]  -- Loss = 0.48708246648311615  --  iteration [33/33]  \n",
      "Epoch TRAIN [72/80]  -- Loss = 0.4651336523880594  --  iteration [301/301]  \n",
      "Epoch TEST [72/80]  -- Loss = 0.4869324885534518  --  iteration [33/33]  \n",
      "Epoch TRAIN [73/80]  -- Loss = 0.46479841413291983  --  iteration [301/301]  \n",
      "Epoch TEST [73/80]  -- Loss = 0.4867808999437274  --  iteration [33/33]  \n",
      "Epoch TRAIN [74/80]  -- Loss = 0.46446706725909465  --  iteration [301/301]  \n",
      "Epoch TEST [74/80]  -- Loss = 0.48663343985875446  --  iteration [33/33]  \n",
      "Epoch TRAIN [75/80]  -- Loss = 0.46414279982299106  --  iteration [301/301]  \n",
      "Epoch TEST [75/80]  -- Loss = 0.48648353146784235  --  iteration [33/33]  \n",
      "Epoch TRAIN [76/80]  -- Loss = 0.4638203475562441  --  iteration [301/301]  \n",
      "Epoch TEST [76/80]  -- Loss = 0.48633381950132776  --  iteration [33/33]  \n",
      "Epoch TRAIN [77/80]  -- Loss = 0.463497327065151  --  iteration [301/301]1]  \n",
      "Epoch TEST [77/80]  -- Loss = 0.48618413146698114  --  iteration [33/33]  \n",
      "Epoch TRAIN [78/80]  -- Loss = 0.46318304271397004  --  iteration [301/301]  \n",
      "Epoch TEST [78/80]  -- Loss = 0.48603780657956097  --  iteration [33/33]  \n",
      "Epoch TRAIN [79/80]  -- Loss = 0.46286939158788154  --  iteration [301/301]  \n",
      "Epoch TEST [79/80]  -- Loss = 0.4858886631149234  --  iteration [33/33]  \n",
      "DONE\n",
      " \n",
      "Train and Test losses over epochs\n"
     ]
    },
    {
     "data": {
      "image/png": "[encoded data removed]",
      "text/plain": [
       "<Figure size 432x288 with 1 Axes>"
      ]
     },
     "metadata": {
      "needs_background": "light"
     },
     "output_type": "display_data"
    }
   ],
   "source": [
    "TrainNetwork_main(dataset_ID=dataset_ID, Task_ID=Task_ID, BM_Name=BM_Name, LengthFile=LengthFile, Fs=analysis_fs, SplitName=SplitName, Version_name=Version_name, ModelName=ModelName, use_pretrained=use_pretrained, TrainSetRatio=TrainSetRatio, batch_size = batch_size, learning_rate=learning_rate, num_epochs=num_epochs, Dyn=Dyn)"
   ]
  }
 ],
 "metadata": {
  "kernelspec": {
   "display_name": "Python 3",
   "language": "python",
   "name": "python3"
  },
  "language_info": {
   "codemirror_mode": {
    "name": "ipython",
    "version": 3
   },
   "file_extension": ".py",
   "mimetype": "text/x-python",
   "name": "python",
   "nbconvert_exporter": "python",
   "pygments_lexer": "ipython3",
   "version": "3.8.8"
  }
 },
 "nbformat": 4,
 "nbformat_minor": 5
}
