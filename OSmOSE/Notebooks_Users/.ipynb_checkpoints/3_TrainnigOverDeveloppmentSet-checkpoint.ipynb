{
 "cells": [
  {
   "cell_type": "markdown",
   "id": "a911ba53-f148-436a-a84b-a107b118cb5e",
   "metadata": {},
   "source": [
    "## Import functions "
   ]
  },
  {
   "cell_type": "markdown",
   "id": "be9e4e47-d0ea-4958-a22d-da09b20076c7",
   "metadata": {},
   "source": [
    "#### <span style=\"color:red\">*JUST RUN CELL*</span>\n"
   ]
  },
  {
   "cell_type": "code",
   "execution_count": 1,
   "id": "239dbd34-388b-4dfe-94a7-02fb4184eea0",
   "metadata": {},
   "outputs": [
    {
     "name": "stdout",
     "output_type": "stream",
     "text": [
      "PyTorch Version:  1.10.1\n",
      "Torchvision Version:  0.11.2\n"
     ]
    }
   ],
   "source": [
    "import os \n",
    "import sys\n",
    "import numpy as np\n",
    "#os.chdir(os.path.join(\"/home/datawork-osmose/\",'osmoseNotebooks_v0','source'))\n",
    "\n",
    "os.chdir(os.path.join(\"C:/Users/gabri.DESKTOP-QIPER28/Documents/PhD/DeepLearningDetection/Codes_V2/Functions\"))\n",
    "from TrainNetwork import TrainNetwork_main \n",
    "from launcher_datasetScale import list_datasets\n",
    "from Check_files_in_AI_folders import CheckAvailableAI_tasks_BM_model, CheckAvailableAI_DataSplit\n"
   ]
  },
  {
   "cell_type": "markdown",
   "id": "431855bb-1d21-48a5-8756-f29c59125a6f",
   "metadata": {},
   "source": [
    "## Selection of dataset, task, benchmark and datasplit"
   ]
  },
  {
   "cell_type": "markdown",
   "id": "3708a79e-3a4c-4afe-afd3-91287115fa62",
   "metadata": {},
   "source": [
    "#### <span style=\"color:red\">*RUN CELL & FILL*</span>\n",
    "\n",
    "- ``dataset_ID`` : nom du jeu de données à traiter\n"
   ]
  },
  {
   "cell_type": "code",
   "execution_count": 2,
   "id": "2f144bfe-8591-40cf-9404-d13784812eec",
   "metadata": {},
   "outputs": [
    {
     "name": "stdout",
     "output_type": "stream",
     "text": [
      "Available datasets:\n",
      "  - APOCADO_IROISE_C2D1_07072022\n",
      "  - Glider\n"
     ]
    }
   ],
   "source": [
    "list_datasets()"
   ]
  },
  {
   "cell_type": "code",
   "execution_count": 3,
   "id": "525370f9-56b7-417c-b96a-4264205d1d1b",
   "metadata": {},
   "outputs": [],
   "source": [
    "dataset_ID = 'Glider'\n",
    "\n",
    "#display_metadata(dataset_ID)"
   ]
  },
  {
   "cell_type": "markdown",
   "id": "056131f6-da18-41cf-9b7d-d19f6f09012a",
   "metadata": {},
   "source": [
    "#### <span style=\"color:red\">*RUN CELL & FILL*</span>\n",
    "\n",
    "It will print all the folder in the AI branch.\n",
    "\n",
    "- `` Task_ID `` : The First Level is for the Task.    (nb : for now, only 'Task1_DetWeakLabel' available)\n",
    "- ``BM_Name`` : The Second Level is for the BenchMark - . A BenchMark is composed by different model that will be compared. (Different architecture, different dataset subdivision, differents representation, ...)\n",
    "- The Third Level is for the dataset used - same notation than the folder that contains specrograms : \"analysis_sf\"_\"LengthFile\"\n",
    "    - ``analysis_fs`` : Fréquence d'échantillonnage des fichier à traiter (en Hz)\n",
    "    - ``LengthFile`` : Durée (en secondes) des fichiers à traiter"
   ]
  },
  {
   "cell_type": "code",
   "execution_count": 4,
   "id": "2ad27eed-49bd-4cd8-a7d9-267b34d3e471",
   "metadata": {},
   "outputs": [
    {
     "name": "stdout",
     "output_type": "stream",
     "text": [
      "/\n",
      "Task1_DetWeakLabel/\n",
      "    DetWL_BlueWhaleAus/\n",
      "        50_500/\n",
      "Task2_DetWeakLabel_multiannot/\n",
      "    DetWL_Bw/\n",
      "        50_500/\n",
      "    DetWL_BwMd/\n",
      "        50_500/\n",
      "    DetWL_BmP/\n",
      "        50_500/\n",
      "    DetWL_BmD/\n",
      "        50_500/\n",
      "    DetWL_BmAnt/\n",
      "        50_500/\n",
      "    DetWL_BwAus/\n",
      "        50_500/\n",
      "    ToDelete/\n",
      "        50_500/\n",
      "Task1_DetWeakLabel_1Spe_TEST/\n",
      "    Det_BWAus/\n",
      "        50_500/\n"
     ]
    }
   ],
   "source": [
    "CheckAvailableAI_tasks_BM_model(dataset_ID)"
   ]
  },
  {
   "cell_type": "code",
   "execution_count": 5,
   "id": "0f5792cb-bea1-4e92-a3cd-4b59bbc96bc9",
   "metadata": {},
   "outputs": [],
   "source": [
    "# AI Task to create :\n",
    "Task_ID = 'Task1_DetWeakLabel_1Spe_TEST'\n",
    "# AI Model to create :\n",
    "BM_Name = 'Det_BWAus'\n",
    "\n",
    "# Please Select one already available in the [3]rd cell !!\n",
    "analysis_fs = 500 #Hz\n",
    "LengthFile = 50 #s"
   ]
  },
  {
   "cell_type": "markdown",
   "id": "bbc3e2d1-888a-4f34-8578-f8173b54ced3",
   "metadata": {},
   "source": [
    "#### <span style=\"color:red\">*RUN CELL & FILL*</span>\n",
    "\n",
    "It will print all the existing datasplit\n",
    "\n",
    "- `` SplitName `` : Enter the one you want to use\n"
   ]
  },
  {
   "cell_type": "code",
   "execution_count": 6,
   "id": "06fdf8b8-e239-4bd2-8ba9-a6fcb08b9415",
   "metadata": {},
   "outputs": [
    {
     "name": "stdout",
     "output_type": "stream",
     "text": [
      "info_datasplit/\n",
      "    Random_Seq2000s/\n"
     ]
    }
   ],
   "source": [
    "CheckAvailableAI_DataSplit(dataset_ID, Task_ID, BM_Name, LengthFile, analysis_fs)"
   ]
  },
  {
   "cell_type": "code",
   "execution_count": 7,
   "id": "87834994-73b3-4897-8045-0a5abf48fef6",
   "metadata": {},
   "outputs": [],
   "source": [
    "SplitName = 'Random_Seq2000s'"
   ]
  },
  {
   "cell_type": "markdown",
   "id": "94c57efe-4eec-4932-897b-71b4ba32d370",
   "metadata": {},
   "source": [
    "## Definition of hyperparameters"
   ]
  },
  {
   "cell_type": "markdown",
   "id": "63696557-08df-40a4-8e2d-6ed2f2912ad1",
   "metadata": {},
   "source": [
    "#### <span style=\"color:red\">*FILL & RUN CELL*</span>\n",
    "\n",
    "- `` Version_name `` : Choose a name for your model \n",
    "\n",
    "- `` ModelName `` : Architecture of the model. Please, select one in this list : (for more details, check : https://pytorch.org/vision/main/models.html)\n",
    "    FROM STATE OF THE ART\n",
    "    - 'resnet18'\n",
    "    - 'resnet50'\n",
    "    - 'resnet101'\n",
    "    - 'vgg11'\n",
    "    - 'vgg11_bn'\n",
    "    - 'vgg13'\n",
    "    - 'vgg13_bn'\n",
    "    - 'vgg19'\n",
    "    - 'vgg19_bn'\n",
    "    - 'alexnet'\n",
    "    - 'squeezenet'\n",
    "    - 'densenet'\n",
    "    - 'inception' --> not ready yet\n",
    "    \n",
    "    HOMEMADE MODEL\n",
    "    - 'CNN3_FC1'\n",
    "    - 'CNN3_FC3'\n",
    "    - 'CNN3_RNN1'\n",
    "    \n",
    "    \n",
    "- `` use_pretrained `` : (for more details, check : https://pytorch.org/vision/main/models.html) (By default : use_pretrained = True)\n",
    "    - True : if you want to used already pretrained network one reference image dataset and just finetun the last layer \n",
    "    - False : if you want to train your network from random weights and adjust all layers\n",
    "\n",
    "\n",
    "       \n",
    "- `` TrainSetRatio `` : ratio between 0 and 1 of all the developpement set that will be used for the training (the oser part is for testing). (if None : TrainSetRatio = 0.9)\n",
    "\n",
    "- `` batch_size `` : Number of spectrograms per batch (if None : batch_size = 10)\n",
    "- `` learning_rate `` : step size at each iteration while moving toward a minimum of a loss function (if None : learning_rate = 1e-3)\n",
    "- `` num_epochs `` : Number of iteration over all developpement set (if None : num_epochs = 10)\n",
    "\n",
    "- `` Dyn `` : Numpy array with two elements np.array([LevelMindB,LevelMaxdB]). Define the lower and upper level threshold apply on the spectrograms. If Dyn=None, we will use the dynamic applied for the visualisation. (By default : Dyn = None)\n",
    "\n"
   ]
  },
  {
   "cell_type": "code",
   "execution_count": 12,
   "id": "c691bc36-d890-4df0-ab64-c91e337f44ef",
   "metadata": {},
   "outputs": [],
   "source": [
    "Version_name = 'cnn_fc1'\n",
    "\n",
    "ModelName = 'CNN3_FC1'\n",
    "use_pretrained = True\n",
    "\n",
    "TrainSetRatio = 0.9\n",
    "\n",
    "batch_size = 10\n",
    "learning_rate = 1e-4\n",
    "num_epochs = 80\n",
    "\n",
    "Dyn = np.array([-20,20])"
   ]
  },
  {
   "cell_type": "code",
   "execution_count": 13,
   "id": "3b63647e-9276-4c1f-9266-3e921e817724",
   "metadata": {},
   "outputs": [
    {
     "name": "stdout",
     "output_type": "stream",
     "text": [
      "MODEL INFORMATION : \n",
      " \n",
      "CNN3_FC1(\n",
      "  (conv1): Sequential(\n",
      "    (0): Conv2d(1, 64, kernel_size=(8, 8), stride=(4, 4))\n",
      "    (1): BatchNorm2d(64, eps=1e-05, momentum=0.1, affine=True, track_running_stats=True)\n",
      "  )\n",
      "  (conv2): Sequential(\n",
      "    (0): Conv2d(64, 128, kernel_size=(3, 3), stride=(2, 2))\n",
      "    (1): BatchNorm2d(128, eps=1e-05, momentum=0.1, affine=True, track_running_stats=True)\n",
      "  )\n",
      "  (conv3): Sequential(\n",
      "    (0): Conv2d(128, 256, kernel_size=(3, 3), stride=(2, 2))\n",
      "    (1): BatchNorm2d(256, eps=1e-05, momentum=0.1, affine=True, track_running_stats=True)\n",
      "  )\n",
      "  (lin1): Linear(in_features=256, out_features=1, bias=True)\n",
      "  (dout): Dropout(p=0.25, inplace=False)\n",
      ")\n",
      " \n",
      "TRAINNING : \n",
      "Epoch TRAIN [0/80]  -- Loss = 0.672848986164528  --  iteration [752/752]  \n",
      "Epoch TEST [0/80]  -- Loss = 0.8077604862670582  --  iteration [83/83]]  \n",
      "Epoch TRAIN [1/80]  -- Loss = 0.4883468948871868  --  iteration [752/752]]  \n",
      "Epoch TEST [1/80]  -- Loss = 0.4229470271482525  --  iteration [83/83]  \n",
      "Epoch TRAIN [2/80]  -- Loss = 0.4376190239442834  --  iteration [752/752]]  \n",
      "Epoch TEST [2/80]  -- Loss = 0.3780856014913823  --  iteration [83/83]  \n",
      "Epoch TRAIN [3/80]  -- Loss = 0.39876768911787447  --  iteration [752/752]  \n",
      "Epoch TEST [3/80]  -- Loss = 0.3615205287484519  --  iteration [83/83]  \n",
      "Epoch TRAIN [4/80]  -- Loss = 0.38817700858666326  --  iteration [752/752]  \n",
      "Epoch TEST [4/80]  -- Loss = 0.3589347612606474  --  iteration [83/83]]  \n",
      "Epoch TRAIN [5/80]  -- Loss = 0.36169739243973226  --  iteration [752/752]  \n",
      "Epoch TEST [5/80]  -- Loss = 0.34493929726711237  --  iteration [83/83]  \n",
      "Epoch TRAIN [6/80]  -- Loss = 0.35048476780363497  --  iteration [752/752]  \n",
      "Epoch TEST [6/80]  -- Loss = 0.34409254838723735  --  iteration [83/83]  \n",
      "Epoch TRAIN [7/80]  -- Loss = 0.330497999253876  --  iteration [752/752]2]  \n",
      "Epoch TEST [7/80]  -- Loss = 0.33756457623767566  --  iteration [83/83]  \n",
      "Epoch TRAIN [8/80]  -- Loss = 0.3285091234172293  --  iteration [752/752]]  \n",
      "Epoch TEST [8/80]  -- Loss = 0.3312021538794759  --  iteration [83/83]]  \n",
      "Epoch TRAIN [9/80]  -- Loss = 0.31022673619504243  --  iteration [752/752]  \n",
      "Epoch TEST [9/80]  -- Loss = 0.32491268381386634  --  iteration [83/83]  \n",
      "Epoch TRAIN [10/80]  -- Loss = 0.30355627918965805  --  iteration [752/752]  \n",
      "Epoch TEST [10/80]  -- Loss = 0.32833898177437754  --  iteration [83/83]  \n",
      "Epoch TRAIN [11/80]  -- Loss = 0.2976288214570733  --  iteration [752/752]  \n",
      "Epoch TEST [11/80]  -- Loss = 0.3220481289977051  --  iteration [83/83]]  \n",
      "Epoch TRAIN [12/80]  -- Loss = 0.2890296444142649  --  iteration [752/752]]  \n",
      "Epoch TEST [12/80]  -- Loss = 0.32227740950702904  --  iteration [83/83]  \n",
      "Epoch TRAIN [13/80]  -- Loss = 0.2774933372450679  --  iteration [752/752]]  \n",
      "Epoch TEST [13/80]  -- Loss = 0.31961722241108675  --  iteration [83/83]  \n",
      "Epoch TRAIN [14/80]  -- Loss = 0.2640728774282987  --  iteration [752/752]]  \n",
      "Epoch TEST [14/80]  -- Loss = 0.31544475504253283  --  iteration [83/83]  \n",
      "Epoch TRAIN [15/80]  -- Loss = 0.2681486090259955  --  iteration [752/752]  \n",
      "Epoch TEST [15/80]  -- Loss = 0.3097520892968379  --  iteration [83/83]]  \n",
      "Epoch TRAIN [16/80]  -- Loss = 0.26313486523027446  --  iteration [752/752]  \n",
      "Epoch TEST [16/80]  -- Loss = 0.3102973252086036  --  iteration [83/83]  \n",
      "Epoch TRAIN [17/80]  -- Loss = 0.23891896637604154  --  iteration [752/752]  \n",
      "Epoch TEST [17/80]  -- Loss = 0.31335432693945714  --  iteration [83/83]  \n",
      "Epoch TRAIN [18/80]  -- Loss = 0.2400690162265822  --  iteration [752/752]  \n",
      "Epoch TEST [18/80]  -- Loss = 0.31147131191409494  --  iteration [83/83]  \n",
      "Epoch TRAIN [19/80]  -- Loss = 0.2168081497152827  --  iteration [752/752]  \n",
      "Epoch TEST [19/80]  -- Loss = 0.3073742264904172  --  iteration [83/83]  \n",
      "Epoch TRAIN [20/80]  -- Loss = 0.21161800829391492  --  iteration [752/752]  \n",
      "Epoch TEST [20/80]  -- Loss = 0.30742895963366135  --  iteration [83/83]  \n",
      "Epoch TRAIN [21/80]  -- Loss = 0.2079913663482175  --  iteration [752/752]]  \n",
      "Epoch TEST [21/80]  -- Loss = 0.3092127567807953  --  iteration [83/83]]  \n",
      "Epoch TRAIN [22/80]  -- Loss = 0.19581706098525753  --  iteration [752/752]  \n",
      "Epoch TEST [22/80]  -- Loss = 0.3141369424109538  --  iteration [83/83]]  \n",
      "Epoch TRAIN [23/80]  -- Loss = 0.18749396903584714  --  iteration [752/752]  \n",
      "Epoch TEST [23/80]  -- Loss = 0.30541724268436793  --  iteration [83/83]  \n",
      "Epoch TRAIN [24/80]  -- Loss = 0.18510581331518436  --  iteration [752/752]  \n",
      "Epoch TEST [24/80]  -- Loss = 0.31880917744598836  --  iteration [83/83]  \n",
      "Epoch TRAIN [25/80]  -- Loss = 0.17820712155356733  --  iteration [752/752]  \n",
      "Epoch TEST [25/80]  -- Loss = 0.32512108798711054  --  iteration [83/83]  \n",
      "Epoch TRAIN [26/80]  -- Loss = 0.17043582008289454  --  iteration [752/752]  \n",
      "Epoch TEST [26/80]  -- Loss = 0.31244444936311927  --  iteration [83/83]  \n",
      "Epoch TRAIN [27/80]  -- Loss = 0.1644585690130256  --  iteration [752/752]  \n",
      "Epoch TEST [27/80]  -- Loss = 0.3013514718770173  --  iteration [83/83]]  \n",
      "Epoch TRAIN [28/80]  -- Loss = 0.15740671986522914  --  iteration [752/752]  \n",
      "Epoch TEST [28/80]  -- Loss = 0.31694153818604814  --  iteration [83/83]  \n",
      "Epoch TRAIN [29/80]  -- Loss = 0.14826004377064625  --  iteration [752/752]  \n",
      "Epoch TEST [29/80]  -- Loss = 0.3276506871355316  --  iteration [83/83]  \n",
      "Epoch TRAIN [30/80]  -- Loss = 0.1541654000878786  --  iteration [752/752]  \n",
      "Epoch TEST [30/80]  -- Loss = 0.32000923472602505  --  iteration [83/83]  \n",
      "Epoch TRAIN [31/80]  -- Loss = 0.14264143698820841  --  iteration [752/752]  \n",
      "Epoch TEST [31/80]  -- Loss = 0.3041091494301491  --  iteration [83/83]  \n",
      "Epoch TRAIN [32/80]  -- Loss = 0.13718962683872227  --  iteration [752/752]  \n",
      "Epoch TEST [32/80]  -- Loss = 0.3149429847351668  --  iteration [83/83]]  \n",
      "Epoch TRAIN [33/80]  -- Loss = 0.1392928585738552  --  iteration [752/752]  \n",
      "Epoch TEST [33/80]  -- Loss = 0.32000281937218394  --  iteration [83/83]  \n",
      "Epoch TRAIN [34/80]  -- Loss = 0.12616822346448547  --  iteration [752/752]  \n",
      "Epoch TEST [34/80]  -- Loss = 0.3078372028532876  --  iteration [83/83]  \n",
      "Epoch TRAIN [35/80]  -- Loss = 0.12533818813819303  --  iteration [752/752]  \n",
      "Epoch TEST [35/80]  -- Loss = 0.32035405435094455  --  iteration [83/83]  \n",
      "Epoch TRAIN [36/80]  -- Loss = 0.11978519360439034  --  iteration [752/752]  \n",
      "Epoch TEST [36/80]  -- Loss = 0.3119297723723463  --  iteration [83/83]]  \n",
      "Epoch TRAIN [37/80]  -- Loss = 0.1127295725752055  --  iteration [752/752]]  \n",
      "Epoch TEST [37/80]  -- Loss = 0.33331844125908  --  iteration [83/83]3]]  \n",
      "Epoch TRAIN [38/80]  -- Loss = 0.11576147320099463  --  iteration [752/752]  \n",
      "Epoch TEST [38/80]  -- Loss = 0.34749630185584707  --  iteration [83/83]  \n",
      "Epoch TRAIN [39/80]  -- Loss = 0.1108794220957501  --  iteration [752/752]]  \n",
      "Epoch TEST [39/80]  -- Loss = 0.3059139466025384  --  iteration [83/83]]  \n",
      "Epoch TRAIN [40/80]  -- Loss = 0.10493798556225112  --  iteration [752/752]  \n",
      "Epoch TEST [40/80]  -- Loss = 0.37464946574049  --  iteration [83/83]3]]  \n",
      "Epoch TRAIN [41/80]  -- Loss = 0.11414565347034723  --  iteration [752/752]  \n",
      "Epoch TEST [41/80]  -- Loss = 0.38428293840667926  --  iteration [83/83]  \n",
      "Epoch TRAIN [42/80]  -- Loss = 0.10048562316706978  --  iteration [752/752]  \n",
      "Epoch TEST [42/80]  -- Loss = 0.3691101362423814  --  iteration [83/83]]  \n",
      "Epoch TRAIN [43/80]  -- Loss = 0.093480322371935  --  iteration [752/752]2]  \n",
      "Epoch TEST [43/80]  -- Loss = 0.347505538979635  --  iteration [83/83]  \n",
      "Epoch TRAIN [44/80]  -- Loss = 0.091204184273308  --  iteration [752/752]  \n",
      "Epoch TEST [44/80]  -- Loss = 0.3593081267079316  --  iteration [83/83]  \n",
      "Epoch TRAIN [45/80]  -- Loss = 0.09358541227127963  --  iteration [752/752]  \n",
      "Epoch TEST [45/80]  -- Loss = 0.37289322653493606  --  iteration [83/83]  \n",
      "Epoch TRAIN [46/80]  -- Loss = 0.09123736218773162  --  iteration [752/752]  \n",
      "Epoch TEST [46/80]  -- Loss = 0.3075079737758511  --  iteration [83/83]]  \n",
      "Epoch TRAIN [47/80]  -- Loss = 0.08859259895361986  --  iteration [752/752]  \n",
      "Epoch TEST [47/80]  -- Loss = 0.3455043610140502  --  iteration [83/83]  \n",
      "Epoch TRAIN [48/80]  -- Loss = 0.08509470047754034  --  iteration [752/752]  \n",
      "Epoch TEST [48/80]  -- Loss = 0.371537740058995  --  iteration [83/83]3]  \n",
      "Epoch TRAIN [49/80]  -- Loss = 0.08423008156716214  --  iteration [752/752]  \n",
      "Epoch TEST [49/80]  -- Loss = 0.41341890919818935  --  iteration [83/83]  \n",
      "Epoch TRAIN [50/80]  -- Loss = 0.0793125530794338  --  iteration [752/752]  \n",
      "Epoch TEST [50/80]  -- Loss = 0.342755714832547  --  iteration [83/83]  \n",
      "Epoch TRAIN [51/80]  -- Loss = 0.07736502652752167  --  iteration [752/752]  \n",
      "Epoch TEST [51/80]  -- Loss = 0.3460852497268513  --  iteration [83/83]  \n",
      "Epoch TRAIN [52/80]  -- Loss = 0.07902084349336883  --  iteration [752/752]  \n",
      "Epoch TEST [52/80]  -- Loss = 0.3840393488160727  --  iteration [83/83]]  \n",
      "Epoch TRAIN [53/80]  -- Loss = 0.07457974821893712  --  iteration [752/752]  \n",
      "Epoch TEST [53/80]  -- Loss = 0.36942973457478795  --  iteration [83/83]  \n",
      "Epoch TRAIN [54/80]  -- Loss = 0.06622312792870631  --  iteration [752/752]  \n",
      "Epoch TEST [54/80]  -- Loss = 0.3948859833910253  --  iteration [83/83]]  \n",
      "Epoch TRAIN [55/80]  -- Loss = 0.06730414053676269  --  iteration [752/752]]  \n",
      "Epoch TEST [55/80]  -- Loss = 0.47344498521738115  --  iteration [83/83]  \n",
      "Epoch TRAIN [56/80]  -- Loss = 0.07084818442236862  --  iteration [752/752]  \n",
      "Epoch TEST [56/80]  -- Loss = 0.3843559303421931  --  iteration [83/83]  \n",
      "Epoch TRAIN [57/80]  -- Loss = 0.06766116365406681  --  iteration [752/752]]  \n",
      "Epoch TEST [57/80]  -- Loss = 0.35834647722946233  --  iteration [83/83]  \n",
      "Epoch TRAIN [58/80]  -- Loss = 0.06601954529748202  --  iteration [752/752]  \n",
      "Epoch TEST [58/80]  -- Loss = 0.4365223379166101  --  iteration [83/83]]  \n",
      "Epoch TRAIN [59/80]  -- Loss = 0.06639818165813073  --  iteration [752/752]  \n",
      "Epoch TEST [59/80]  -- Loss = 0.3606737159860197  --  iteration [83/83]  \n",
      "Epoch TRAIN [60/80]  -- Loss = 0.06367560221454603  --  iteration [752/752]  \n",
      "Epoch TEST [60/80]  -- Loss = 0.34713824771636403  --  iteration [83/83]  \n",
      "Epoch TRAIN [61/80]  -- Loss = 0.06149468533387935  --  iteration [752/752]]  \n",
      "Epoch TEST [61/80]  -- Loss = 0.41244219694600764  --  iteration [83/83]  \n",
      "Epoch TRAIN [62/80]  -- Loss = 0.06354979814330573  --  iteration [752/752]  \n",
      "Epoch TEST [62/80]  -- Loss = 0.42064356209194087  --  iteration [83/83]  \n",
      "Epoch TRAIN [63/80]  -- Loss = 0.06765351373198979  --  iteration [752/752]  \n",
      "Epoch TEST [63/80]  -- Loss = 0.5092467255876344  --  iteration [83/83]]  \n",
      "Epoch TRAIN [64/80]  -- Loss = 0.05687440462398709  --  iteration [752/752]  \n",
      "Epoch TEST [64/80]  -- Loss = 0.43116676549326227  --  iteration [83/83]  \n",
      "Epoch TRAIN [65/80]  -- Loss = 0.05449707606570389  --  iteration [752/752]  \n",
      "Epoch TEST [65/80]  -- Loss = 0.37018913202862963  --  iteration [83/83]  \n",
      "Epoch TRAIN [66/80]  -- Loss = 0.055115616068723575  --  iteration [752/752]  \n",
      "Epoch TEST [66/80]  -- Loss = 0.35780775835400963  --  iteration [83/83]  \n",
      "Epoch TRAIN [67/80]  -- Loss = 0.055682829124805266  --  iteration [752/752]  \n",
      "Epoch TEST [67/80]  -- Loss = 0.4072789349088288  --  iteration [83/83]  \n",
      "Epoch TRAIN [68/80]  -- Loss = 0.05976265036329105  --  iteration [752/752]  \n",
      "Epoch TEST [68/80]  -- Loss = 0.4163216006526925  --  iteration [83/83]  \n",
      "Epoch TRAIN [69/80]  -- Loss = 0.04907216353350616  --  iteration [752/752]]  \n",
      "Epoch TEST [69/80]  -- Loss = 0.46843928434179133  --  iteration [83/83]  \n",
      "Epoch TRAIN [70/80]  -- Loss = 0.05817203143447343  --  iteration [752/752]]  \n",
      "Epoch TEST [70/80]  -- Loss = 0.41563883442880517  --  iteration [83/83]  \n",
      "Epoch TRAIN [71/80]  -- Loss = 0.054242084371734986  --  iteration [752/752]  \n",
      "Epoch TEST [71/80]  -- Loss = 0.4422753881354513  --  iteration [83/83]  \n",
      "Epoch TRAIN [72/80]  -- Loss = 0.05207762607706336  --  iteration [752/752]]  \n",
      "Epoch TEST [72/80]  -- Loss = 0.397010437698182  --  iteration [83/83]  \n",
      "Epoch TRAIN [73/80]  -- Loss = 0.04692935125024904  --  iteration [752/752]]  \n",
      "Epoch TEST [73/80]  -- Loss = 0.43493856356411903  --  iteration [83/83]  \n",
      "Epoch TRAIN [74/80]  -- Loss = 0.053868591058994046  --  iteration [752/752]  \n",
      "Epoch TEST [74/80]  -- Loss = 0.4036042338169842  --  iteration [83/83]  \n",
      "Epoch TRAIN [75/80]  -- Loss = 0.04798291052450869  --  iteration [752/752]  \n",
      "Epoch TEST [75/80]  -- Loss = 0.43488420427956404  --  iteration [83/83]  \n",
      "Epoch TRAIN [76/80]  -- Loss = 0.04505788506031166  --  iteration [752/752]]  \n",
      "Epoch TEST [76/80]  -- Loss = 0.3924926940564919  --  iteration [83/83]]  \n",
      "Epoch TRAIN [77/80]  -- Loss = 0.04196236093401465  --  iteration [752/752]]  \n",
      "Epoch TEST [77/80]  -- Loss = 0.44108572340547947  --  iteration [83/83]  \n",
      "Epoch TRAIN [78/80]  -- Loss = 0.04413764986700582  --  iteration [752/752]]  \n",
      "Epoch TEST [78/80]  -- Loss = 0.5005744400389313  --  iteration [83/83]  \n",
      "Epoch TRAIN [79/80]  -- Loss = 0.04458347075575919  --  iteration [752/752]]  \n",
      "Epoch TEST [79/80]  -- Loss = 0.5124520136363221  --  iteration [83/83]  \n",
      "DONE\n",
      " \n",
      "Train and Test losses over epochs\n"
     ]
    },
    {
     "data": {
      "image/png": "[encoded data removed]",
      "text/plain": [
       "<Figure size 432x288 with 1 Axes>"
      ]
     },
     "metadata": {
      "needs_background": "light"
     },
     "output_type": "display_data"
    }
   ],
   "source": [
    "TrainNetwork_main(dataset_ID=dataset_ID, Task_ID=Task_ID, BM_Name=BM_Name, LengthFile=LengthFile, Fs=analysis_fs, SplitName=SplitName, Version_name=Version_name, ModelName=ModelName, use_pretrained=use_pretrained, TrainSetRatio=TrainSetRatio, batch_size = batch_size, learning_rate=learning_rate, num_epochs=num_epochs, Dyn=Dyn)"
   ]
  },
  {
   "cell_type": "code",
   "execution_count": null,
   "id": "e267efc2-f5ef-47c5-90d0-c86fb1f81e5b",
   "metadata": {},
   "outputs": [],
   "source": []
  },
  {
   "cell_type": "code",
   "execution_count": null,
   "id": "418ba715-fd2d-4190-a2c1-71c6a79ede3f",
   "metadata": {},
   "outputs": [],
   "source": []
  }
 ],
 "metadata": {
  "kernelspec": {
   "display_name": "Python 3",
   "language": "python",
   "name": "python3"
  },
  "language_info": {
   "codemirror_mode": {
    "name": "ipython",
    "version": 3
   },
   "file_extension": ".py",
   "mimetype": "text/x-python",
   "name": "python",
   "nbconvert_exporter": "python",
   "pygments_lexer": "ipython3",
   "version": "3.8.8"
  }
 },
 "nbformat": 4,
 "nbformat_minor": 5
}
